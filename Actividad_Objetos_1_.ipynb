{
  "nbformat": 4,
  "nbformat_minor": 0,
  "metadata": {
    "colab": {
      "provenance": [],
      "authorship_tag": "ABX9TyMCn2Hgw2IcP5EF9Br1aHNI",
      "include_colab_link": true
    },
    "kernelspec": {
      "name": "python3",
      "display_name": "Python 3"
    },
    "language_info": {
      "name": "python"
    }
  },
  "cells": [
    {
      "cell_type": "markdown",
      "metadata": {
        "id": "view-in-github",
        "colab_type": "text"
      },
      "source": [
        "<a href=\"https://colab.research.google.com/github/Dovakin505/mas-tareas-de-progra/blob/main/Actividad_Objetos_1_.ipynb\" target=\"_parent\"><img src=\"https://colab.research.google.com/assets/colab-badge.svg\" alt=\"Open In Colab\"/></a>"
      ]
    },
    {
      "cell_type": "code",
      "execution_count": null,
      "metadata": {
        "colab": {
          "base_uri": "https://localhost:8080/"
        },
        "id": "DsZE5fetvRli",
        "outputId": "c61a25c2-b03f-4ba4-d12a-0e388d1c269e"
      },
      "outputs": [
        {
          "output_type": "stream",
          "name": "stdout",
          "text": [
            "Toyota Corolla, Año: 2020\n",
            "Última verificación: 2025-02-21\n"
          ]
        }
      ],
      "source": [
        "from datetime import date\n",
        "\n",
        "class Auto:\n",
        "    def __init__(self, marca, modelo, año):\n",
        "        self.marca = marca\n",
        "        self.modelo = modelo\n",
        "        self.año = año\n",
        "\n",
        "    def get_info(self):\n",
        "        return f\"{self.marca} {self.modelo}, Año: {self.año}\"\n",
        "\n",
        "    def ultima_verificación(self):\n",
        "        print(f\"Última verificación: {date.today()}\")\n",
        "\n",
        "\n",
        "my_car = Auto(\"Toyota\", \"Corolla\", 2020)\n",
        "\n",
        "print(my_car.get_info())\n",
        "\n",
        "\n",
        "my_car.ultima_verificación()"
      ]
    }
  ]
}