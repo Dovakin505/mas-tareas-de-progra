{
  "nbformat": 4,
  "nbformat_minor": 0,
  "metadata": {
    "colab": {
      "provenance": [],
      "authorship_tag": "ABX9TyMzj9AQKDNMd2Zz2lGGQ4Lt",
      "include_colab_link": true
    },
    "kernelspec": {
      "name": "python3",
      "display_name": "Python 3"
    },
    "language_info": {
      "name": "python"
    }
  },
  "cells": [
    {
      "cell_type": "markdown",
      "metadata": {
        "id": "view-in-github",
        "colab_type": "text"
      },
      "source": [
        "<a href=\"https://colab.research.google.com/github/Dovakin505/mas-tareas-de-progra/blob/main/Untitled4.ipynb\" target=\"_parent\"><img src=\"https://colab.research.google.com/assets/colab-badge.svg\" alt=\"Open In Colab\"/></a>"
      ]
    },
    {
      "cell_type": "code",
      "execution_count": null,
      "metadata": {
        "colab": {
          "base_uri": "https://localhost:8080/"
        },
        "id": "HQQpvhxxxhVL",
        "outputId": "57d825ca-923b-4778-b68f-180cc6695615"
      },
      "outputs": [
        {
          "output_type": "stream",
          "name": "stdout",
          "text": [
            "Información inicial del empleado:\n",
            "Nombre: Juan Pérez\n",
            "Departamento: Informática\n",
            "Salario: 3000\n",
            "\n",
            "Información actualizada del empleado:\n",
            "Nombre: Ana Gómez\n",
            "Departamento: Matemáticas\n",
            "Salario: 3500\n",
            "Error: El salario no puede ser negativo. El salario no ha sido modificado.\n",
            "\n",
            "Salario después de intentar asignar un valor negativo: 3500\n"
          ]
        }
      ],
      "source": [
        "class EmpleadoUniversitario:\n",
        "    def __init__(self, nombre, departamento, salario):\n",
        "        self.nombre = nombre\n",
        "        self.departamento = departamento\n",
        "        self.salario = salario\n",
        "\n",
        "\n",
        "    def get_nombre(self):\n",
        "        return self.nombre\n",
        "\n",
        "    def get_departamento(self):\n",
        "        return self.departamento\n",
        "\n",
        "    def get_salario(self):\n",
        "        return self.salario\n",
        "\n",
        "\n",
        "    def set_nombre(self, nuevo_nombre):\n",
        "        self.nombre = nuevo_nombre\n",
        "\n",
        "    def set_departamento(self, nuevo_departamento):\n",
        "        self.departamento = nuevo_departamento\n",
        "\n",
        "    def set_salario(self, nuevo_salario):\n",
        "        if nuevo_salario >= 0:\n",
        "            self.salario = nuevo_salario\n",
        "        else:\n",
        "            print(\"Error: El salario no puede ser negativo. El salario no ha sido modificado.\")\n",
        "\n",
        "\n",
        "empleado = EmpleadoUniversitario(\"Juan Pérez\", \"Informática\", 3000)\n",
        "\n",
        "\n",
        "print(\"Información inicial del empleado:\")\n",
        "print(\"Nombre:\", empleado.get_nombre())\n",
        "print(\"Departamento:\", empleado.get_departamento())\n",
        "print(\"Salario:\", empleado.get_salario())\n",
        "\n",
        "\n",
        "empleado.set_nombre(\"Ana Gómez\")\n",
        "empleado.set_departamento(\"Matemáticas\")\n",
        "empleado.set_salario(3500)\n",
        "\n",
        "\n",
        "print(\"\\nInformación actualizada del empleado:\")\n",
        "print(\"Nombre:\", empleado.get_nombre())\n",
        "print(\"Departamento:\", empleado.get_departamento())\n",
        "print(\"Salario:\", empleado.get_salario())\n",
        "\n",
        "empleado.set_salario(-1000)\n",
        "\n",
        "\n",
        "print(\"\\nSalario después de intentar asignar un valor negativo:\", empleado.get_salario())"
      ]
    },
    {
      "cell_type": "code",
      "source": [],
      "metadata": {
        "id": "UQLZCEtP4pGn"
      },
      "execution_count": null,
      "outputs": []
    },
    {
      "cell_type": "code",
      "source": [],
      "metadata": {
        "id": "QLm5ZFks4pS_"
      },
      "execution_count": null,
      "outputs": []
    }
  ]
}