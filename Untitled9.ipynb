{
  "nbformat": 4,
  "nbformat_minor": 0,
  "metadata": {
    "colab": {
      "provenance": [],
      "authorship_tag": "ABX9TyMtZ6dnBmgk3exV+5UA+FA2",
      "include_colab_link": true
    },
    "kernelspec": {
      "name": "python3",
      "display_name": "Python 3"
    },
    "language_info": {
      "name": "python"
    }
  },
  "cells": [
    {
      "cell_type": "markdown",
      "metadata": {
        "id": "view-in-github",
        "colab_type": "text"
      },
      "source": [
        "<a href=\"https://colab.research.google.com/github/Dovakin505/mas-tareas-de-progra/blob/main/Untitled9.ipynb\" target=\"_parent\"><img src=\"https://colab.research.google.com/assets/colab-badge.svg\" alt=\"Open In Colab\"/></a>"
      ]
    },
    {
      "cell_type": "code",
      "execution_count": 2,
      "metadata": {
        "id": "A80r38oyJQH6"
      },
      "outputs": [],
      "source": [
        "import pickle\n",
        "list=[\"apple\", \"grapes\",\"pear\"]\n",
        "with open(\"lst.pkl\",'wb') as file:\n",
        " pickle.dump(list,file)"
      ]
    },
    {
      "cell_type": "code",
      "source": [
        "import pickle\n",
        "with open(\"lst.pkl\",'rb') as file:\n",
        " retrive_list= pickle.load(file)\n",
        "\n",
        "print(retrive_list)"
      ],
      "metadata": {
        "colab": {
          "base_uri": "https://localhost:8080/"
        },
        "id": "SxbWxnK2JkJp",
        "outputId": "02cf87c0-b618-4a4a-f832-35e86452cecb"
      },
      "execution_count": 3,
      "outputs": [
        {
          "output_type": "stream",
          "name": "stdout",
          "text": [
            "['apple', 'grapes', 'pear']\n"
          ]
        }
      ]
    },
    {
      "cell_type": "code",
      "source": [],
      "metadata": {
        "id": "Tw6AHjNrKI5X"
      },
      "execution_count": null,
      "outputs": []
    },
    {
      "cell_type": "code",
      "source": [
        "import pickle\n",
        "import os\n",
        "\n",
        "class Student:\n",
        "  def __init__(self, student_id, name, age, gender, grade, email, phone,␣\n",
        "↪address):\n",
        "  self.student_id = student_id\n",
        "  self.name = name\n",
        "  self.age = age\n",
        "  self.gender = gender\n",
        "  self.grade = grade\n",
        "  self.email = email\n",
        "  self.phone = phone\n",
        "  self.address = address\n",
        "\n",
        " def __str__(self):\n",
        "    return (f\"ID: {self.student_id}, Name: {self.name}, Age: {self.age},␣\n",
        "Gender: {self.gender}, \""
      ],
      "metadata": {
        "colab": {
          "base_uri": "https://localhost:8080/",
          "height": 106
        },
        "id": "Uj-qf3L9KNNA",
        "outputId": "c0683157-0ae6-41e5-ba44-942c479061f5"
      },
      "execution_count": 8,
      "outputs": [
        {
          "output_type": "error",
          "ename": "IndentationError",
          "evalue": "unindent does not match any outer indentation level (<tokenize>, line 15)",
          "traceback": [
            "\u001b[0;36m  File \u001b[0;32m\"<tokenize>\"\u001b[0;36m, line \u001b[0;32m15\u001b[0m\n\u001b[0;31m    def __str__(self):\u001b[0m\n\u001b[0m    ^\u001b[0m\n\u001b[0;31mIndentationError\u001b[0m\u001b[0;31m:\u001b[0m unindent does not match any outer indentation level\n"
          ]
        }
      ]
    },
    {
      "cell_type": "code",
      "source": [
        "        f\"Grade: {self.grade}, Email: {self.email}, Phone: {self.\n",
        " ↪phone}, Address: {self.address}\")\n",
        "\n",
        "class StudentCRUD:\n",
        "  FILE_NAME = 'students.pkl'\n",
        "\n",
        "def __init__(self):\n",
        "  self.students = self.load_students()\n",
        "\n",
        "def load_students(self):\n",
        "  \"\"\"Load students from the pickle file.\"\"\"\n",
        "  if os.path.exists(self.FILE_NAME):\n",
        "    with open(self.FILE_NAME, 'rb') as f:\n",
        "      return pickle.load(f)\n",
        "return []\n",
        "\n",
        "\n",
        "def save_students(self):\n",
        "  \"\"\"Save students to the pickle file.\"\"\"\n",
        "   with open(self.FILE_NAME, 'wb') as f:\n",
        "      pickle.dump(self.students, f)\n",
        "\n",
        "  def create_student(self, student):\n",
        "    \"\"\"Add a new student.\"\"\"\n",
        "    self.students.append(student)\n",
        "    self.save_students()\n",
        "    print(f\"Student {student.name} added successfully.\")\n",
        "\n",
        " def read_student(self, student_id):\n",
        "  \"\"\"Retrieve a student by ID.\"\"\"\n",
        "  for student in self.students:\n",
        "    if student.student_id == student_id:\n",
        "     return student\n",
        "        print(f\"No student found with ID: {student_id}\")\n",
        "       return None\n",
        "\n",
        "  def update_student(self, student_id, **kwargs):\n",
        "   \"\"\"Update student information.\"\"\"\n",
        "   student = self.read_student(student_id)\n",
        "    if student:\n",
        "     for key, value in kwargs.items():\n",
        "        if hasattr(student, key):\n",
        "         setattr(student, key, value)\n",
        " self.save_students()\n",
        " print(f\"Student {student_id} updated successfully.\")\n",
        "\n",
        "def delete_student(self, student_id):\n",
        "   \"\"\"Delete a student by ID.\"\"\""
      ],
      "metadata": {
        "colab": {
          "base_uri": "https://localhost:8080/",
          "height": 106
        },
        "id": "KhB6EhlBK_Sa",
        "outputId": "38804258-afd6-451d-a38b-605df7cb39b4"
      },
      "execution_count": 15,
      "outputs": [
        {
          "output_type": "error",
          "ename": "SyntaxError",
          "evalue": "unterminated string literal (detected at line 1) (<ipython-input-15-29ddf3c7378a>, line 1)",
          "traceback": [
            "\u001b[0;36m  File \u001b[0;32m\"<ipython-input-15-29ddf3c7378a>\"\u001b[0;36m, line \u001b[0;32m1\u001b[0m\n\u001b[0;31m    f\"Grade: {self.grade}, Email: {self.email}, Phone: {self.\u001b[0m\n\u001b[0m    ^\u001b[0m\n\u001b[0;31mSyntaxError\u001b[0m\u001b[0;31m:\u001b[0m unterminated string literal (detected at line 1)\n"
          ]
        }
      ]
    }
  ]
}