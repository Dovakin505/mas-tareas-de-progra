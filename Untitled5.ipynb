{
  "nbformat": 4,
  "nbformat_minor": 0,
  "metadata": {
    "colab": {
      "provenance": [],
      "authorship_tag": "ABX9TyO7n+LIyO2DHTmS4JqMBOUR",
      "include_colab_link": true
    },
    "kernelspec": {
      "name": "python3",
      "display_name": "Python 3"
    },
    "language_info": {
      "name": "python"
    }
  },
  "cells": [
    {
      "cell_type": "markdown",
      "metadata": {
        "id": "view-in-github",
        "colab_type": "text"
      },
      "source": [
        "<a href=\"https://colab.research.google.com/github/Dovakin505/mas-tareas-de-progra/blob/main/Untitled5.ipynb\" target=\"_parent\"><img src=\"https://colab.research.google.com/assets/colab-badge.svg\" alt=\"Open In Colab\"/></a>"
      ]
    },
    {
      "cell_type": "code",
      "execution_count": null,
      "metadata": {
        "colab": {
          "base_uri": "https://localhost:8080/"
        },
        "id": "l5Tlqo3R4urP",
        "outputId": "6d64d15f-4b75-4d5a-ded2-3a1c8d8b1731"
      },
      "outputs": [
        {
          "output_type": "stream",
          "name": "stdout",
          "text": [
            "Nombre: Juan Pérez\n",
            "Departamento: Informática\n",
            "Salario: 50000\n",
            "Foto: https://www.google.com/imgres?q=empleado&imgurl=https%3A%2F%2Fmasymejor.com%2Fwp-content%2Fuploads%2F2018%2F05%2FJefe-empleados.jpg&imgrefurl=https%3A%2F%2Fmasymejor.com%2Fempleado%2F&docid=lF-oiiSuxLjdwM&tbnid=iwJYwdZbEtMWSM&vet=12ahUKEwiTmvn5-9SLAxXpDTQIHQYaKLQQM3oECBwQAA..i&w=960&h=540&hcb=2&ved=2ahUKEwiTmvn5-9SLAxXpDTQIHQYaKLQQM3oECBwQAA\n",
            "Nombre: Ana Gómez\n",
            "Departamento: Matemáticas\n",
            "Salario: 55000\n",
            "Foto: https://www.google.com/imgres?q=empleado&imgurl=https%3A%2F%2Fwww.buscador.com%2Fwp-content%2Fuploads%2F2020%2F03%2Fempleadofeliz-e1584627215477.jpg&imgrefurl=https%3A%2F%2Fwww.buscador.com%2Fempleado%2F&docid=y4RMq_0zhxH8DM&tbnid=RhadSknYrA0_iM&vet=12ahUKEwiTmvn5-9SLAxXpDTQIHQYaKLQQM3oFCIUBEAA..i&w=600&h=399&hcb=2&ved=2ahUKEwiTmvn5-9SLAxXpDTQIHQYaKLQQM3oFCIUBEAA\n",
            "Error: El salario no puede ser negativo.\n",
            "Nombre: Ana Gómez\n",
            "Departamento: Matemáticas\n",
            "Salario: 55000\n",
            "Foto: https://www.google.com/imgres?q=empleado&imgurl=https%3A%2F%2Fwww.buscador.com%2Fwp-content%2Fuploads%2F2020%2F03%2Fempleadofeliz-e1584627215477.jpg&imgrefurl=https%3A%2F%2Fwww.buscador.com%2Fempleado%2F&docid=y4RMq_0zhxH8DM&tbnid=RhadSknYrA0_iM&vet=12ahUKEwiTmvn5-9SLAxXpDTQIHQYaKLQQM3oFCIUBEAA..i&w=600&h=399&hcb=2&ved=2ahUKEwiTmvn5-9SLAxXpDTQIHQYaKLQQM3oFCIUBEAA\n"
          ]
        }
      ],
      "source": [
        "class EmpleadoUniversitario:\n",
        "    def __init__(self, nombre, departamento, salario, foto=None):\n",
        "        self._nombre = nombre\n",
        "        self._departamento = departamento\n",
        "        self._salario = salario\n",
        "        self._foto = foto\n",
        "\n",
        "    @property\n",
        "    def nombre(self):\n",
        "        return self._nombre\n",
        "\n",
        "    @nombre.setter\n",
        "    def nombre(self, value):\n",
        "        self._nombre = value\n",
        "\n",
        "    @property\n",
        "    def departamento(self):\n",
        "        return self._departamento\n",
        "\n",
        "    @departamento.setter\n",
        "    def departamento(self, value):\n",
        "        self._departamento = value\n",
        "\n",
        "    @property\n",
        "    def salario(self):\n",
        "        return self._salario\n",
        "\n",
        "    @salario.setter\n",
        "    def salario(self, value):\n",
        "        if value < 0:\n",
        "            print(\"Error: El salario no puede ser negativo.\")\n",
        "        else:\n",
        "            self._salario = value\n",
        "\n",
        "    @property\n",
        "    def foto(self):\n",
        "        return self._foto\n",
        "\n",
        "    @foto.setter\n",
        "    def foto(self, value):\n",
        "        self._foto = value\n",
        "\n",
        "    def mostrar_informacion(self):\n",
        "        print(f\"Nombre: {self.nombre}\")\n",
        "        print(f\"Departamento: {self.departamento}\")\n",
        "        print(f\"Salario: {self.salario}\")\n",
        "        if self.foto:\n",
        "            print(f\"Foto: {self.foto}\")\n",
        "        else:\n",
        "            print(\"No hay foto disponible.\")\n",
        "\n",
        "\n",
        "empleado = EmpleadoUniversitario(\"Juan Pérez\", \"Informática\", 50000, \"https://www.google.com/imgres?q=empleado&imgurl=https%3A%2F%2Fmasymejor.com%2Fwp-content%2Fuploads%2F2018%2F05%2FJefe-empleados.jpg&imgrefurl=https%3A%2F%2Fmasymejor.com%2Fempleado%2F&docid=lF-oiiSuxLjdwM&tbnid=iwJYwdZbEtMWSM&vet=12ahUKEwiTmvn5-9SLAxXpDTQIHQYaKLQQM3oECBwQAA..i&w=960&h=540&hcb=2&ved=2ahUKEwiTmvn5-9SLAxXpDTQIHQYaKLQQM3oECBwQAA\")\n",
        "\n",
        "\n",
        "empleado.mostrar_informacion()\n",
        "\n",
        "\n",
        "empleado.nombre = \"Ana Gómez\"\n",
        "empleado.departamento = \"Matemáticas\"\n",
        "empleado.salario = 55000\n",
        "empleado.foto = \"https://www.google.com/imgres?q=empleado&imgurl=https%3A%2F%2Fwww.buscador.com%2Fwp-content%2Fuploads%2F2020%2F03%2Fempleadofeliz-e1584627215477.jpg&imgrefurl=https%3A%2F%2Fwww.buscador.com%2Fempleado%2F&docid=y4RMq_0zhxH8DM&tbnid=RhadSknYrA0_iM&vet=12ahUKEwiTmvn5-9SLAxXpDTQIHQYaKLQQM3oFCIUBEAA..i&w=600&h=399&hcb=2&ved=2ahUKEwiTmvn5-9SLAxXpDTQIHQYaKLQQM3oFCIUBEAA\"\n",
        "\n",
        "\n",
        "empleado.mostrar_informacion()\n",
        "\n",
        "\n",
        "empleado.salario = -1000\n",
        "empleado.mostrar_informacion()"
      ]
    }
  ]
}